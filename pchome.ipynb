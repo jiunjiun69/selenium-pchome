{
 "cells": [
  {
   "cell_type": "code",
   "execution_count": 1,
   "metadata": {},
   "outputs": [],
   "source": [
    "# 自己的帳號密碼\n",
    "Acc = \"\"\n",
    "Pwd = \"\""
   ]
  },
  {
   "cell_type": "code",
   "execution_count": 2,
   "metadata": {},
   "outputs": [],
   "source": [
    "from selenium import webdriver\n",
    "# 開啟Chrome瀏覽器\n",
    "browser = webdriver.Chrome()"
   ]
  },
  {
   "cell_type": "code",
   "execution_count": 3,
   "metadata": {},
   "outputs": [],
   "source": [
    "# 連進pchome\n",
    "browser.get(\"https://shopping.pchome.com.tw/\")"
   ]
  },
  {
   "cell_type": "code",
   "execution_count": 4,
   "metadata": {},
   "outputs": [
    {
     "name": "stdout",
     "output_type": "stream",
     "text": [
      "點擊購物車成功\n"
     ]
    }
   ],
   "source": [
    "# 點擊購物車\n",
    "while True:\n",
    "    try:\n",
    "        if browser.find_element_by_link_text(\"購物車\"):\n",
    "            browser.find_element_by_link_text(\"購物車\").click()\n",
    "            print(f\"點擊購物車成功\")\n",
    "            break\n",
    "    except:\n",
    "        print(f\"再次嘗試點擊購物車\")"
   ]
  },
  {
   "cell_type": "code",
   "execution_count": 5,
   "metadata": {},
   "outputs": [
    {
     "name": "stdout",
     "output_type": "stream",
     "text": [
      "自動填入帳號密碼成功\n"
     ]
    }
   ],
   "source": [
    "# 自動填入帳號密碼\n",
    "while True:\n",
    "    try:\n",
    "        if browser.find_element_by_id(\"loginAcc\"):\n",
    "            browser.find_element_by_id(\"loginAcc\").send_keys(Acc)\n",
    "            browser.find_element_by_id(\"loginPwd\").send_keys(Pwd)\n",
    "            print(f\"自動填入帳號密碼成功\")\n",
    "            break\n",
    "    except:\n",
    "        print(f\"再次嘗試填入帳號密碼\")"
   ]
  },
  {
   "cell_type": "code",
   "execution_count": 6,
   "metadata": {},
   "outputs": [
    {
     "name": "stdout",
     "output_type": "stream",
     "text": [
      "點擊登入成功\n"
     ]
    }
   ],
   "source": [
    "# 按登入\n",
    "while True:\n",
    "    try:\n",
    "        if browser.find_element_by_id(\"btnLogin\"):\n",
    "            browser.find_element_by_id(\"btnLogin\").click()\n",
    "            print(f\"點擊登入成功\")\n",
    "            break\n",
    "    except:\n",
    "        print(f\"再次嘗試點擊登入\")"
   ]
  },
  {
   "cell_type": "code",
   "execution_count": 7,
   "metadata": {},
   "outputs": [],
   "source": [
    "# pchome想要搶購的商品網址\n",
    "WantToBuy_URL = 'https://24h.pchome.com.tw/prod/DAAN0G-A45757871?fq=/S/DAAN0G'\n",
    "\n",
    "# 連進想要搶購的商品網址\n",
    "browser.get(WantToBuy_URL)"
   ]
  },
  {
   "cell_type": "code",
   "execution_count": 8,
   "metadata": {},
   "outputs": [
    {
     "name": "stdout",
     "output_type": "stream",
     "text": [
      "點擊加入24h購物車成功\n"
     ]
    }
   ],
   "source": [
    "# 開始搶購，如果還未開賣、不能加入購物車就刷新頁面並持續判斷(尚未開賣的li的class='site_btn origncheckbutton orderNotyet')\n",
    "while True:\n",
    "    try:\n",
    "        if browser.find_element_by_xpath(\"//li[@class='site_btn origncheckbutton add24hCart']/button\"):\n",
    "            browser.find_element_by_xpath(\"//li[@class='site_btn origncheckbutton add24hCart']/button\").click()\n",
    "            print(f\"點擊加入24h購物車成功\")\n",
    "            break\n",
    "    except:\n",
    "        print(f\"再次嘗試點擊加入24h購物車\")"
   ]
  },
  {
   "cell_type": "code",
   "execution_count": 9,
   "metadata": {},
   "outputs": [
    {
     "name": "stdout",
     "output_type": "stream",
     "text": [
      "點擊結帳轉移到購物車頁面成功\n"
     ]
    }
   ],
   "source": [
    "# 點擊到購物車頁面\n",
    "while True:     \n",
    "    try:\n",
    "        if browser.find_element_by_id(\"24hrCartContainer\"):\n",
    "            browser.find_element_by_id(\"24hrCartContainer\").click()\n",
    "            print(f\"點擊結帳轉移到購物車頁面成功\")\n",
    "            break\n",
    "    except:\n",
    "        print(f\"再次嘗試點擊結帳轉移到購物車頁面\")"
   ]
  },
  {
   "cell_type": "code",
   "execution_count": 10,
   "metadata": {},
   "outputs": [
    {
     "name": "stdout",
     "output_type": "stream",
     "text": [
      "點擊配送方式:宅配到府成功\n"
     ]
    }
   ],
   "source": [
    "while True:\n",
    "    try:\n",
    "        if browser.find_element_by_id(\"radio_delivery\"):\n",
    "            browser.find_element_by_id(\"radio_delivery\").click()\n",
    "            print(f\"點擊配送方式:宅配到府成功\")\n",
    "            break\n",
    "    except:\n",
    "        print(f\"再次嘗試點擊配送方式\")"
   ]
  },
  {
   "cell_type": "code",
   "execution_count": 11,
   "metadata": {},
   "outputs": [
    {
     "name": "stdout",
     "output_type": "stream",
     "text": [
      "點擊貨到付款成功\n"
     ]
    }
   ],
   "source": [
    "while True:\n",
    "    try:\n",
    "        if browser.find_element_by_id(\"a_cod\"):\n",
    "            browser.find_element_by_id(\"a_cod\").click()\n",
    "            print(f\"點擊貨到付款成功\")\n",
    "            break\n",
    "    except:\n",
    "        print(f\"再次嘗試點擊貨到付款\")"
   ]
  },
  {
   "cell_type": "code",
   "execution_count": 12,
   "metadata": {},
   "outputs": [
    {
     "name": "stdout",
     "output_type": "stream",
     "text": [
      "點擊確定送出成功\n"
     ]
    }
   ],
   "source": [
    "# while True:\n",
    "#     try:\n",
    "#         if browser.find_element_by_id(\"btnSubmit\"):\n",
    "#             browser.find_element_by_id(\"btnSubmit\").click()\n",
    "#             print(f\"點擊確定送出成功\")\n",
    "#             break\n",
    "#     except:\n",
    "#         print(f\"再次嘗試點擊確定送出\")"
   ]
  },
  {
   "cell_type": "code",
   "execution_count": null,
   "metadata": {},
   "outputs": [],
   "source": []
  }
 ],
 "metadata": {
  "kernelspec": {
   "display_name": "Python 3",
   "language": "python",
   "name": "python3"
  },
  "language_info": {
   "codemirror_mode": {
    "name": "ipython",
    "version": 3
   },
   "file_extension": ".py",
   "mimetype": "text/x-python",
   "name": "python",
   "nbconvert_exporter": "python",
   "pygments_lexer": "ipython3",
   "version": "3.7.9"
  }
 },
 "nbformat": 4,
 "nbformat_minor": 4
}
